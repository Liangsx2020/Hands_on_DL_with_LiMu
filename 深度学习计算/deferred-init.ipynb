{
 "cells": [
  {
   "cell_type": "markdown",
   "metadata": {},
   "source": [
    "# 延后初始化\n",
    "在一开始不必指定输入维度，在框架的延后初始化技巧中，直到数据第一次通过模型传递时，框架才会动态地推断出每个层的大小\n",
    "\n",
    "现在在编写代码的时候。无需知道维度是什么就可以设置参数"
   ]
  },
  {
   "cell_type": "markdown",
   "metadata": {},
   "source": [
    "## 实例化网络\n",
    "首先，实例化一个多层感知机\n",
    "\n",
    "只有第一层需要延迟初始化，但是框架仍是按顺序初始化的。\n",
    "等到知道了所有的参数形状，框架就可以初始化参数。\n",
    "\n",
    "\n"
   ]
  },
  {
   "cell_type": "markdown",
   "metadata": {},
   "source": []
  }
 ],
 "metadata": {
  "language_info": {
   "name": "python"
  }
 },
 "nbformat": 4,
 "nbformat_minor": 2
}
